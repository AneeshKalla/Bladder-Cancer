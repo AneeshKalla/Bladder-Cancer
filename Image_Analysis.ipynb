{
  "cells": [
    {
      "cell_type": "code",
      "execution_count": null,
      "metadata": {
        "id": "IbsM1I7wdVH7"
      },
      "outputs": [],
      "source": [
        "#clones gitHub repo with cell images\n",
        "!git clone https://github.com/jlevy44/PreliminaryGenerativeHistoPath.git"
      ]
    },
    {
      "cell_type": "code",
      "execution_count": 2,
      "metadata": {
        "id": "GK-qlG-VijG1"
      },
      "outputs": [],
      "source": [
        "import os\n",
        "import numpy as np\n",
        "from PIL import Image\n",
        "import matplotlib.pyplot as plt\n",
        "import pandas as pd\n",
        "import scipy.stats as stat\n",
        "\n",
        "# Set the paths to the input folders containing X and Y PNG images\n",
        "dataPath = \"/content/PreliminaryGenerativeHistoPath/cyto2label_public\"\n",
        "trainDir = dataPath + \"/train\" \n",
        "testDir = dataPath + \"/test\"\n",
        "valDir = dataPath + \"/val\"\n",
        "\n"
      ]
    },
    {
      "cell_type": "code",
      "execution_count": 3,
      "metadata": {
        "id": "bI8-sb3jkHaK"
      },
      "outputs": [],
      "source": [
        "trainPaths = os.listdir(trainDir)\n",
        "testPaths = os.listdir(testDir)\n",
        "valPaths = os.listdir(valDir)\n",
        "\n",
        "trainSegs = np.zeros((len(trainPaths), 227, 227, 3))\n",
        "trainImgs = np.zeros((len(trainPaths), 227, 227, 3))\n",
        "\n",
        "testSegs = np.zeros((len(testPaths), 227, 227, 3))\n",
        "testImgs = np.zeros((len(testPaths), 227, 227, 3))\n",
        "\n",
        "valSegs = np.zeros((len(valPaths), 227, 227, 3))\n",
        "valImgs = np.zeros((len(valPaths), 227, 227, 3))\n"
      ]
    },
    {
      "cell_type": "code",
      "execution_count": 4,
      "metadata": {
        "id": "n4UgujZOrEn8"
      },
      "outputs": [],
      "source": [
        "#Counts blue and green pixels, returns nc ratio\n",
        "def pixCount(img):\n",
        "  nucleus = 0\n",
        "  cytoplasm = 0\n",
        "  for row in img:\n",
        "    for pix in row:\n",
        "      r = pix[0]\n",
        "      g = pix[1]\n",
        "      b = pix[2]\n",
        "      if(r == 0 and g == 0 and b == 255):\n",
        "        nucleus += 1\n",
        "      if(r == 0 and g == 255 and b == 0):\n",
        "        cytoplasm += 1\n",
        "\n",
        "  return(nucleus, cytoplasm, nucleus/(cytoplasm + nucleus))"
      ]
    },
    {
      "cell_type": "code",
      "execution_count": 5,
      "metadata": {
        "id": "w3WrBBrnhHcy"
      },
      "outputs": [],
      "source": [
        "def pixCountMod(img): #not all white values have perfect 255, 255, 255 proved by this method\n",
        "                  #but all blue and green values have perfect 255 vals. This method isn't actually used\n",
        "  nucleus = 0\n",
        "  cytoplasm = 0\n",
        "  for row in img:\n",
        "    for pix in row:\n",
        "      r = int(pix[0])\n",
        "      g = int(pix[1])\n",
        "      b = int(pix[2])\n",
        "      if(b > (g + r)):\n",
        "        print(\"b: \"+ str(pix))\n",
        "        nucleus += 1\n",
        "      if(g > (b + r)):\n",
        "        print(\"g: \"+ str(pix))\n",
        "        cytoplasm += 1\n",
        "\n",
        "  return(nucleus, cytoplasm, nucleus/(cytoplasm + nucleus))"
      ]
    },
    {
      "cell_type": "code",
      "execution_count": null,
      "metadata": {
        "id": "Yt_v1fEfkm_J"
      },
      "outputs": [],
      "source": [
        "#seperates training images and segment masks, puts into np arrays\n",
        "for i in range(len(trainPaths)):\n",
        "  print(trainPaths[i])\n",
        "  img = Image.open(trainDir +\"/\" + trainPaths[i])\n",
        "\n",
        "  normImg = img.crop((0, 0, 227, 227))\n",
        "  segImg = img.crop((227, 0, 454, 227))\n",
        "\n",
        "  normImg = np.array(normImg)\n",
        "  segImg = np.array(segImg)\n",
        "\n",
        "  trainImgs[i] = normImg\n",
        "  trainSegs[i] = segImg"
      ]
    },
    {
      "cell_type": "code",
      "execution_count": null,
      "metadata": {
        "id": "jBs_DYgiAaoJ"
      },
      "outputs": [],
      "source": [
        "#seperates test images and segment masks, puts into np arrays. Also finds nc ratio of each image\n",
        "ncRatios = []\n",
        "\n",
        "for i in range(len(testPaths)):\n",
        "  print(testPaths[i])\n",
        "  img = Image.open(testDir +\"/\" + testPaths[i])\n",
        "\n",
        "  normImg = img.crop((0, 0, 227, 227))\n",
        "  segImg = img.crop((227, 0, 454, 227))\n",
        "\n",
        "  normImg = np.array(normImg)\n",
        "  segImg = np.array(segImg)\n",
        "  nucleus, cytoplasm, ncRatio = pixCount(segImg)\n",
        "  print(\"n: \" + str(nucleus) + \" c: \" + str(cytoplasm) + \"ratio: \" + str(ncRatio))\n",
        "  ncRatios.append(ncRatio)\n",
        "\n",
        "  testImgs[i] = normImg\n",
        "  testSegs[i] = segImg"
      ]
    },
    {
      "cell_type": "code",
      "execution_count": null,
      "metadata": {
        "id": "yo6iaJLlAmxh"
      },
      "outputs": [],
      "source": [
        "#seperates validation images and segment masks, puts into np arrays\n",
        "for i in range(len(valPaths)):\n",
        "  print(valPaths[i])\n",
        "  img = Image.open(valDir +\"/\" + valPaths[i])\n",
        "\n",
        "  normImg = img.crop((0, 0, 227, 227))\n",
        "  segImg = img.crop((227, 0, 454, 227))\n",
        "\n",
        "  normImg = np.array(normImg)\n",
        "  segImg = np.array(segImg)\n",
        "\n",
        "  valImgs[i] = normImg\n",
        "  valSegs[i] = segImg"
      ]
    },
    {
      "cell_type": "code",
      "execution_count": 55,
      "metadata": {
        "colab": {
          "base_uri": "https://localhost:8080/",
          "height": 452
        },
        "id": "qyVTFcBet2U3",
        "outputId": "7a593465-5e13-4b37-8968-89429520e19e"
      },
      "outputs": [
        {
          "data": {
            "image/png": "[encoded data removed]",
            "text/plain": [
              "<Figure size 640x480 with 1 Axes>"
            ]
          },
          "metadata": {},
          "output_type": "display_data"
        }
      ],
      "source": [
        "#plots nc ratios\n",
        "plt.hist(ncRatios, bins=50)\n",
        "plt.gca().set(title='Frequency Histogram', ylabel='Frequency');"
      ]
    },
    {
      "cell_type": "code",
      "execution_count": 10,
      "metadata": {
        "id": "7OdHPvk8wTce"
      },
      "outputs": [],
      "source": [
        "class GeneTester: #from part 1\n",
        "\n",
        "    def __init__(self, path):\n",
        "        self.df = pd.read_csv(path)\n",
        "    def average(arr):\n",
        "        sum = 0\n",
        "        for val in arr:\n",
        "            sum+=val\n",
        "        mean = sum / len(arr)\n",
        "        return mean\n",
        "\n",
        "    def populationSD(arr, mean):\n",
        "        varianceSum = 0\n",
        "        for val in arr:\n",
        "            dif = abs(val - mean)\n",
        "            difSqr = dif ** 2\n",
        "            varianceSum += difSqr\n",
        "        variance = varianceSum / len(arr)\n",
        "\n",
        "        SD = variance ** 0.5\n",
        "        return SD\n",
        "\n",
        "    def sampleSD(arr, mean):\n",
        "        varianceSum = 0\n",
        "        for val in arr:\n",
        "            dif = abs(val - mean)\n",
        "            difSqr = dif ** 2\n",
        "            varianceSum += difSqr\n",
        "        variance = varianceSum / (len(arr) - 1)\n",
        "\n",
        "        SD = variance ** 0.5\n",
        "        return SD\n",
        "\n",
        "    def standardError(SD, n):\n",
        "        return SD / (n ** 0.5)\n",
        "\n",
        "    def criticalVal(mean, SD, thresh):\n",
        "        dif = thresh - mean\n",
        "        critVal = dif / SD\n",
        "        return critVal\n",
        "\n",
        "    def zTest(critVal):\n",
        "        p = stat.norm.cdf(critVal)\n",
        "        return p\n",
        "    \n",
        "    def probability(arr, thresh):\n",
        "        length = len(arr)\n",
        "        mean = GeneTester.average(arr)\n",
        "        SD = GeneTester.populationSD(arr, mean)\n",
        "        #print(SD)\n",
        "        SE = GeneTester.standardError(SD, length)\n",
        "        critVal = GeneTester.criticalVal(mean, SE, thresh)\n",
        "        p = GeneTester.zTest(critVal)\n",
        "        return p\n",
        "    def iterData(self):\n",
        "        for series in self.df.iloc:\n",
        "            geneType = series[0]\n",
        "            series = series[1:]\n",
        "            arr = []\n",
        "            for val in series:\n",
        "                arr.append(val)\n",
        "            p = GeneTester.probability(arr)\n",
        "            print(geneType + \" probability good gene: \" + str(p))\n",
        "    def plot(self, gene1, gene2):\n",
        "        arr1 = self.df.iloc[gene1][1:]\n",
        "        arr2 = self.df.iloc[gene2][1:]\n",
        "        print(\"x axis gene: \" + str(gene1))\n",
        "        print(\"y axis gene: \" + str(gene2))\n",
        "        plt.scatter(arr1, arr2)\n",
        "        plt.show()"
      ]
    },
    {
      "cell_type": "code",
      "execution_count": 75,
      "metadata": {
        "colab": {
          "base_uri": "https://localhost:8080/"
        },
        "id": "rxwXHJ4lwG5p",
        "outputId": "bf04bda9-d5cd-4feb-ab15-3ef05d57dcd4"
      },
      "outputs": [
        {
          "name": "stdout",
          "output_type": "stream",
          "text": [
            "0.9909086179544453\n"
          ]
        }
      ],
      "source": [
        "#finds probability that nc ratio doesn't exceed threshold\n",
        "thresh = 0.3\n",
        "probability = GeneTester.probability(ncRatios, thresh)\n",
        "print(probability)"
      ]
    },
    {
      "cell_type": "code",
      "execution_count": 70,
      "metadata": {
        "colab": {
          "base_uri": "https://localhost:8080/"
        },
        "id": "SZKOk33nw9ZG",
        "outputId": "1bfa534b-ed23-4864-89a7-98c499f5b9aa"
      },
      "outputs": [
        {
          "name": "stdout",
          "output_type": "stream",
          "text": [
            "probability cell population is malignant: 1.4e-09%\n"
          ]
        }
      ],
      "source": [
        "print(\"probability cell population is malignant: \" + str(round(((1 - probability) * 100), 10)) + \"%\" ) "
      ]
    },
    {
      "cell_type": "code",
      "execution_count": 13,
      "metadata": {
        "id": "LCM8hmpazqfC"
      },
      "outputs": [],
      "source": [
        "\n",
        "def seperateBackground(img):  #gives background red and gives all pixels perfect 255 values\n",
        "  newImg = np.copy(img)       #Also adds padding to make images 256x256\n",
        "  \n",
        "  pad_size = ((14, 15), (14, 15), (0, 0)) \n",
        "\n",
        "  newImg = np.pad(newImg, pad_size, mode='constant', constant_values=255)\n",
        "\n",
        "  for row in newImg:\n",
        "    for pix in row:\n",
        "      r = pix[0]\n",
        "      g = pix[1]\n",
        "      b = pix[2]\n",
        "      if(b > r + g):\n",
        "        pix[0] = 0\n",
        "        pix[1] = 0\n",
        "        pix[2] = 255\n",
        "      elif(g > r + b):\n",
        "        pix[0] = 0\n",
        "        pix[1] = 255\n",
        "        pix[2] = 0\n",
        "      else:\n",
        "        pix[0] = 255\n",
        "        pix[1] = 0\n",
        "        pix[2] = 0\n",
        "  \n",
        "      \n",
        "\n",
        "  return newImg"
      ]
    },
    {
      "cell_type": "code",
      "execution_count": 14,
      "metadata": {
        "id": "Twotdk6J0uEs"
      },
      "outputs": [],
      "source": [
        "trainBackgrounds = np.zeros((len(trainPaths), 256, 256, 3))\n",
        "testBackgrounds = np.zeros((len(trainPaths), 256, 256, 3))\n",
        "valBackgrounds = np.zeros((len(trainPaths), 256, 256, 3))"
      ]
    },
    {
      "cell_type": "code",
      "execution_count": 15,
      "metadata": {
        "id": "lFnVBmHpx4-4"
      },
      "outputs": [],
      "source": [
        "def padding(img): #adds padding to make images 256x256\n",
        "  pad_size = ((14, 15), (14, 15), (0, 0)) \n",
        "\n",
        "\n",
        "  newImg = np.pad(img, pad_size, mode='constant', constant_values=255)\n",
        "  return newImg"
      ]
    },
    {
      "cell_type": "code",
      "execution_count": 16,
      "metadata": {
        "id": "KQXg7_-dyLBh"
      },
      "outputs": [],
      "source": [
        "#makes np array with padded images\n",
        "trainImgsPad = np.zeros((len(trainImgs), 256, 256, 3))\n",
        "for i in range(len(trainImgs)):\n",
        "  trainImgsPad[i] = padding(trainImgs[i])\n",
        "\n",
        "testImgsPad = np.zeros((len(testImgs), 256, 256, 3))\n",
        "for i in range(len(testImgs)):\n",
        "  testImgsPad[i] = padding(testImgs[i])\n",
        "\n",
        "valImgsPad = np.zeros((len(valImgs), 256, 256, 3))\n",
        "for i in range(len(valImgs)):\n",
        "  valImgsPad[i] = padding(valImgs[i])"
      ]
    },
    {
      "cell_type": "code",
      "execution_count": 17,
      "metadata": {
        "id": "neknFaeu06iM"
      },
      "outputs": [],
      "source": [
        "#makes np array with image segmented into red(background) green and blue\n",
        "for i in range(len(trainSegs)):\n",
        "  background = seperateBackground(trainSegs[i])\n",
        "  trainBackgrounds[i] = background\n",
        "\n",
        "for i in range(len(testSegs)):\n",
        "  background = seperateBackground(testSegs[i])\n",
        "  testBackgrounds[i] = background\n",
        "\n",
        "for i in range(len(valSegs)):\n",
        "  background = seperateBackground(valSegs[i])\n",
        "  valBackgrounds[i] = background"
      ]
    },
    {
      "cell_type": "code",
      "execution_count": 18,
      "metadata": {
        "id": "2MJozLht52xB"
      },
      "outputs": [],
      "source": [
        "#Normalize pixel values from 0-255 to 0-1\n",
        "trainBackgrounds = trainBackgrounds / 255\n",
        "trainImgsPad = trainImgsPad / 255\n",
        "\n",
        "testBackgrounds = testBackgrounds / 255\n",
        "testImgsPad = testImgsPad / 255\n",
        "\n",
        "valBackgrounds = valBackgrounds / 255\n",
        "valImgsPad = valImgsPad / 255"
      ]
    },
    {
      "cell_type": "code",
      "execution_count": 21,
      "metadata": {
        "id": "bDCTZZFrlEf1"
      },
      "outputs": [],
      "source": [
        "from numpy import load\n",
        "from numpy import zeros\n",
        "from numpy import ones\n",
        "from numpy.random import randint\n",
        "from keras.optimizers import Adam\n",
        "from keras.initializers import RandomNormal\n",
        "from keras.models import Model\n",
        "from keras.layers import Input\n",
        "from keras.layers import Conv2D\n",
        "from keras.layers import Conv2DTranspose\n",
        "from keras.layers import LeakyReLU\n",
        "from keras.layers import Activation\n",
        "from keras.layers import Concatenate\n",
        "from keras.layers import Dropout\n",
        "from keras.layers import BatchNormalization\n",
        "from keras.layers import LeakyReLU"
      ]
    },
    {
      "cell_type": "code",
      "execution_count": 22,
      "metadata": {
        "id": "3NrcmMDKkIlM"
      },
      "outputs": [],
      "source": [
        "#each encoder block uses convolutional layer to make \"half\" size filter maps\n",
        "def define_encoder_block(layer_in, n_filters, filtSize, stride, batchnorm=True):\n",
        " init = RandomNormal(stddev=0.02)\n",
        " g = Conv2D(n_filters, (filtSize, filtSize), strides=(stride, stride), padding='same',\n",
        "            kernel_initializer=init)(layer_in)\n",
        " if batchnorm:\n",
        "  g = BatchNormalization()(g, training=True)\n",
        " g = LeakyReLU(alpha=0.2)(g)\n",
        " return g\n",
        " \n",
        "#each encoder block uses convolutional layer to make \"double\" size filter maps\n",
        "def decoder_block(layer_in, skip_in, n_filters, filtSize, stride, dropout=True):\n",
        " init = RandomNormal(stddev=0.02)\n",
        " g = Conv2DTranspose(n_filters, (filtSize, filtSize), strides=(stride, stride), padding='same', kernel_initializer=init)(layer_in)\n",
        " g = BatchNormalization()(g, training=True)\n",
        " if dropout:\n",
        "  g = Dropout(0.5)(g, training=True)\n",
        " g = Concatenate()([g, skip_in])\n",
        " g = Activation('relu')(g)\n",
        " return g\n",
        "\n",
        "#makes U-net that brings image from 256x256 down to 32x32, then back to 256x256.\n",
        "def define_generator(image_shape=(256,256,3)):\n",
        " init = RandomNormal(stddev=0.02)\n",
        " in_image = Input(shape=image_shape)\n",
        " #encoder\n",
        " e1 = define_encoder_block(in_image, 64, 4, 2, batchnorm=False)\n",
        " e2 = define_encoder_block(e1, 128, 4, 2)\n",
        " e3 = define_encoder_block(e2, 256, 4, 2)\n",
        " e4 = define_encoder_block(e3, 512, 4, 2)\n",
        " e5 = define_encoder_block(e4, 512, 4, 2)\n",
        "\n",
        " b = Conv2D(512, (4,4), strides=(2,2), padding='same', kernel_initializer=init)(e5) #should be e7\n",
        " b = Activation('relu')(b)\n",
        " # decoder\n",
        " d3 = decoder_block(b, e5, 512, 4, 2)\n",
        " d4 = decoder_block(d3, e4, 512, 4 ,2, dropout=False)\n",
        " d5 = decoder_block(d4, e3, 256, 4, 2, dropout=False)\n",
        " d6 = decoder_block(d5, e2, 128, 4, 2, dropout=False)\n",
        " d7 = decoder_block(d6, e1, 64, 4, 2, dropout=False)\n",
        "\n",
        " g = Conv2DTranspose(3, (4,4), strides=(2,2), padding='same', kernel_initializer=init)(d7)\n",
        " out_image = Activation('tanh')(g)\n",
        "# define model\n",
        " model = Model(in_image, out_image)\n",
        " return model"
      ]
    },
    {
      "cell_type": "code",
      "execution_count": 23,
      "metadata": {
        "colab": {
          "base_uri": "https://localhost:8080/"
        },
        "id": "PvnZLiyVrKl2",
        "outputId": "d43b1639-492d-4cf5-f133-344c66488757"
      },
      "outputs": [
        {
          "name": "stderr",
          "output_type": "stream",
          "text": [
            "/usr/local/lib/python3.9/dist-packages/keras/initializers/initializers.py:120: UserWarning: The initializer RandomNormal is unseeded and being called multiple times, which will return identical values each time (even if the initializer is unseeded). Please update your code to provide a seed to the initializer, or avoid using the same initalizer instance more than once.\n",
            "  warnings.warn(\n"
          ]
        }
      ],
      "source": [
        "model = define_generator()"
      ]
    },
    {
      "cell_type": "code",
      "execution_count": null,
      "metadata": {
        "id": "L26e7zdcrpoU"
      },
      "outputs": [],
      "source": [
        "model.summary()"
      ]
    },
    {
      "cell_type": "code",
      "execution_count": 25,
      "metadata": {
        "id": "iZFhwFsSv_YB"
      },
      "outputs": [],
      "source": [
        "#mean absolute error loss to bring pix values close to target\n",
        "model.compile(optimizer='adam', loss='mae', metrics=['mae'])"
      ]
    },
    {
      "cell_type": "code",
      "execution_count": null,
      "metadata": {
        "id": "BumyeF5vFljw"
      },
      "outputs": [],
      "source": [
        "from tensorflow.keras.callbacks import ModelCheckpoint\n",
        "\n",
        "\n",
        "\n",
        "checkpoint_filepath = 'model_checkpoint.h5'\n",
        "\n",
        "# saves model every 10 epochs\n",
        "checkpoint_callback = ModelCheckpoint(filepath=checkpoint_filepath, \n",
        "                                       save_freq='epoch', \n",
        "                                       save_best_only=False, \n",
        "                                       save_weights_only=False, \n",
        "                                       verbose=1, \n",
        "                                       period=10)\n",
        "\n",
        "# train model for 200 epochs\n",
        "model.fit(trainImgsPad, trainBackgrounds, validation_data=(testImgsPad, testBackgrounds), epochs=200, batch_size=64, callbacks=[checkpoint_callback])"
      ]
    },
    {
      "cell_type": "code",
      "execution_count": null,
      "metadata": {
        "id": "TsQ8UTnHEVdn"
      },
      "outputs": [],
      "source": [
        "#reaches 0.06 mean absolute error for validation , lots of random \"spots\" throughout the image, 9 mins runtime"
      ]
    },
    {
      "cell_type": "code",
      "execution_count": 28,
      "metadata": {
        "colab": {
          "base_uri": "https://localhost:8080/"
        },
        "id": "-LRP0RRv8kyD",
        "outputId": "93f9587d-e924-44f1-b247-828f60be7bed"
      },
      "outputs": [
        {
          "name": "stdout",
          "output_type": "stream",
          "text": [
            "4/4 [==============================] - 6s 648ms/step\n"
          ]
        }
      ],
      "source": [
        "#predictions on testing data\n",
        "preds = model.predict(testImgsPad)"
      ]
    },
    {
      "cell_type": "code",
      "execution_count": 30,
      "metadata": {
        "id": "koGGLl6f9JGG"
      },
      "outputs": [],
      "source": [
        "#makes normalized images(0-1) back to normal rgb format(0-255)\n",
        "preds *= 255\n",
        "preds = preds.astype('uint8')"
      ]
    },
    {
      "cell_type": "code",
      "execution_count": 32,
      "metadata": {
        "colab": {
          "base_uri": "https://localhost:8080/"
        },
        "id": "xux5R_9aRCrg",
        "outputId": "f63c6393-26a5-4331-ae0c-d121191111ab"
      },
      "outputs": [
        {
          "name": "stdout",
          "output_type": "stream",
          "text": [
            "/content/preAbsolute\n"
          ]
        }
      ],
      "source": [
        "%cd preAbsolute"
      ]
    },
    {
      "cell_type": "code",
      "execution_count": 33,
      "metadata": {
        "id": "4iwJEkKzQ3ae"
      },
      "outputs": [],
      "source": [
        "#adds prediction images before post processing to a folder\n",
        "for i in range(len(preds)):\n",
        "  img = Image.fromarray(preds[i].astype(\"uint8\"))\n",
        "  img.save(testPaths[i])\n",
        "  "
      ]
    },
    {
      "cell_type": "code",
      "execution_count": 34,
      "metadata": {
        "id": "xZrEnhzQ-D8v"
      },
      "outputs": [],
      "source": [
        "#changes the \"uncertain\" values that are somewhere beteen 0 and 255, into either red, green, or blue\n",
        "for img in preds:\n",
        "  for row in img:\n",
        "    for pix in row:\n",
        "      r = int(pix[0])\n",
        "      g = int(pix[1])\n",
        "      b = int(pix[2])\n",
        "      if(r > g and r > b):\n",
        "          pix[0] = 255\n",
        "          pix[1] = 255\n",
        "          pix[2] = 255\n",
        "      \n",
        "      elif(g > r and g > b):\n",
        "          pix[0] = 0\n",
        "          pix[1] = 255\n",
        "          pix[2] = 0\n",
        "      \n",
        "      else:\n",
        "          pix[0] = 0\n",
        "          pix[1] = 0\n",
        "          pix[2] = 255\n"
      ]
    },
    {
      "cell_type": "code",
      "execution_count": 35,
      "metadata": {
        "id": "SwSZuYf5SktK"
      },
      "outputs": [],
      "source": [
        "#Changes pixels that are completely white in the initial images(before running through model)\n",
        "#into white\n",
        "testImgsPad = testImgsPad * 255\n",
        "print(testImgsPad)\n",
        "testImgsPad.astype('uint8')\n",
        "for a in range(len(testImgs)):\n",
        "  background = seperateBackground(testImgsPad[a])\n",
        "  for i in range(256):\n",
        "    for j in range(256):\n",
        "      if testImgsPad[a][i][j][0] == 255 and testImgsPad[a][i][j][1] == 255 and testImgsPad[a][i][j][2] == 255:\n",
        "        preds[a][i][j][0] = 255\n",
        "        preds[a][i][j][1] = 255\n",
        "        preds[a][i][j][2] = 255"
      ]
    },
    {
      "cell_type": "code",
      "execution_count": 37,
      "metadata": {
        "colab": {
          "base_uri": "https://localhost:8080/"
        },
        "id": "x1VgmiasRdss",
        "outputId": "2c39a635-079b-46b1-dff3-a8fd277c8bd7"
      },
      "outputs": [
        {
          "name": "stdout",
          "output_type": "stream",
          "text": [
            "/content/postAbsolute\n"
          ]
        }
      ],
      "source": [
        "%cd postAbsolute"
      ]
    },
    {
      "cell_type": "code",
      "execution_count": 38,
      "metadata": {
        "id": "XKE7lP4mRcrc"
      },
      "outputs": [],
      "source": [
        "#adds prediction images after post processing to a folder\n",
        "for i in range(len(preds)):\n",
        "  img = Image.fromarray(preds[i].astype(\"uint8\"))\n",
        "  img.save(testPaths[i])\n",
        "  "
      ]
    },
    {
      "cell_type": "code",
      "execution_count": null,
      "metadata": {
        "id": "LOvpDVqXaJKC"
      },
      "outputs": [],
      "source": [
        "#finds nc ratios for each of the predicted segment masks\n",
        "predNcRatios = []\n",
        "for i in range(len(preds)):\n",
        "  nucleus, cytoplasm, ncRatio = pixCount(preds[i])\n",
        "  print(\"n: \" + str(nucleus) + \" c: \" + str(cytoplasm) + \"ratio: \" + str(ncRatio))\n",
        "  predNcRatios.append(ncRatio)"
      ]
    },
    {
      "cell_type": "code",
      "execution_count": 60,
      "metadata": {
        "colab": {
          "base_uri": "https://localhost:8080/",
          "height": 452
        },
        "id": "KERzaeXAadnw",
        "outputId": "80e6660a-0dbd-4607-dde0-4d93801ffc03"
      },
      "outputs": [
        {
          "data": {
            "image/png": "[encoded data removed]",
            "text/plain": [
              "<Figure size 640x480 with 1 Axes>"
            ]
          },
          "metadata": {},
          "output_type": "display_data"
        }
      ],
      "source": [
        "#plots predicted nc ratios\n",
        "plt.hist(predNcRatios, bins=50)\n",
        "plt.gca().set(title='Frequency Histogram', ylabel='Frequency');"
      ]
    },
    {
      "cell_type": "code",
      "execution_count": 73,
      "metadata": {
        "colab": {
          "base_uri": "https://localhost:8080/"
        },
        "id": "zNszXV61aqNi",
        "outputId": "688aec0e-207f-43ac-c039-c4dd344bcb52"
      },
      "outputs": [
        {
          "name": "stdout",
          "output_type": "stream",
          "text": [
            "1.2495598475479641e-31\n"
          ]
        }
      ],
      "source": [
        "#finds probability that nc ratios are below threshold\n",
        "thresh = 0.3\n",
        "Predprobability = GeneTester.probability(predNcRatios, thresh)\n",
        "print(Predprobability)"
      ]
    },
    {
      "cell_type": "code",
      "execution_count": 74,
      "metadata": {
        "colab": {
          "base_uri": "https://localhost:8080/"
        },
        "id": "NmeEidA3asse",
        "outputId": "2d8bb569-87d8-41ca-902e-4fc9a4ed424f"
      },
      "outputs": [
        {
          "name": "stdout",
          "output_type": "stream",
          "text": [
            "probability cell population is malignant: 100.0%\n"
          ]
        }
      ],
      "source": [
        "print(\"probability cell population is malignant: \" + str(round(((1 - Predprobability) * 100), 10)) + \"%\" ) "
      ]
    }
  ],
  "metadata": {
    "accelerator": "GPU",
    "colab": {
      "provenance": []
    },
    "gpuClass": "standard",
    "kernelspec": {
      "display_name": "Python 3.11.0 64-bit",
      "language": "python",
      "name": "python3"
    },
    "language_info": {
      "name": "python",
      "version": "3.11.0"
    },
    "vscode": {
      "interpreter": {
        "hash": "aee8b7b246df8f9039afb4144a1f6fd8d2ca17a180786b69acc140d282b71a49"
      }
    }
  },
  "nbformat": 4,
  "nbformat_minor": 0
}
